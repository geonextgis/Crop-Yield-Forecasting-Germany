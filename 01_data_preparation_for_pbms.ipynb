{
 "cells": [
  {
   "cell_type": "markdown",
   "metadata": {},
   "source": [
    "# **Data Preparation for PBMs**"
   ]
  },
  {
   "cell_type": "markdown",
   "metadata": {},
   "source": [
    "## **Import Dependencies**"
   ]
  },
  {
   "cell_type": "code",
   "execution_count": 153,
   "metadata": {},
   "outputs": [
    {
     "data": {
      "text/html": [
       "\n",
       "            <style>\n",
       "                .geemap-dark {\n",
       "                    --jp-widgets-color: white;\n",
       "                    --jp-widgets-label-color: white;\n",
       "                    --jp-ui-font-color1: white;\n",
       "                    --jp-layout-color2: #454545;\n",
       "                    background-color: #383838;\n",
       "                }\n",
       "\n",
       "                .geemap-dark .jupyter-button {\n",
       "                    --jp-layout-color3: #383838;\n",
       "                }\n",
       "\n",
       "                .geemap-colab {\n",
       "                    background-color: var(--colab-primary-surface-color, white);\n",
       "                }\n",
       "\n",
       "                .geemap-colab .jupyter-button {\n",
       "                    --jp-layout-color3: var(--colab-primary-surface-color, white);\n",
       "                }\n",
       "            </style>\n",
       "            "
      ],
      "text/plain": [
       "<IPython.core.display.HTML object>"
      ]
     },
     "metadata": {},
     "output_type": "display_data"
    }
   ],
   "source": [
    "import numpy as np\n",
    "import pandas as pd\n",
    "import matplotlib.pyplot as plt\n",
    "import seaborn as sns\n",
    "import geopandas as gpd\n",
    "import os\n",
    "from glob import glob\n",
    "import json\n",
    "from tqdm.auto import tqdm\n",
    "import ee\n",
    "import geemap\n",
    "from sklearn.neighbors import BallTree\n",
    "\n",
    "plt.rcParams['font.family'] = 'DeJavu Serif'\n",
    "plt.rcParams['font.serif'] = 'Times New Roman'\n",
    "\n",
    "import warnings\n",
    "warnings.filterwarnings('ignore')\n",
    "\n",
    "out_master_dir = r'datasets\\master'\n",
    "out_temp_dir = r'temp_data'"
   ]
  },
  {
   "cell_type": "markdown",
   "metadata": {},
   "source": [
    "## **Instantiate a Map Object**"
   ]
  },
  {
   "cell_type": "code",
   "execution_count": 72,
   "metadata": {},
   "outputs": [
    {
     "data": {
      "text/html": [
       "\n",
       "            <style>\n",
       "                .geemap-dark {\n",
       "                    --jp-widgets-color: white;\n",
       "                    --jp-widgets-label-color: white;\n",
       "                    --jp-ui-font-color1: white;\n",
       "                    --jp-layout-color2: #454545;\n",
       "                    background-color: #383838;\n",
       "                }\n",
       "\n",
       "                .geemap-dark .jupyter-button {\n",
       "                    --jp-layout-color3: #383838;\n",
       "                }\n",
       "\n",
       "                .geemap-colab {\n",
       "                    background-color: var(--colab-primary-surface-color, white);\n",
       "                }\n",
       "\n",
       "                .geemap-colab .jupyter-button {\n",
       "                    --jp-layout-color3: var(--colab-primary-surface-color, white);\n",
       "                }\n",
       "            </style>\n",
       "            "
      ],
      "text/plain": [
       "<IPython.core.display.HTML object>"
      ]
     },
     "metadata": {},
     "output_type": "display_data"
    }
   ],
   "source": [
    "# ee.Authenticate()\n",
    "# ee.Initialize()"
   ]
  },
  {
   "cell_type": "code",
   "execution_count": 73,
   "metadata": {},
   "outputs": [
    {
     "data": {
      "text/html": [
       "\n",
       "            <style>\n",
       "                .geemap-dark {\n",
       "                    --jp-widgets-color: white;\n",
       "                    --jp-widgets-label-color: white;\n",
       "                    --jp-ui-font-color1: white;\n",
       "                    --jp-layout-color2: #454545;\n",
       "                    background-color: #383838;\n",
       "                }\n",
       "\n",
       "                .geemap-dark .jupyter-button {\n",
       "                    --jp-layout-color3: #383838;\n",
       "                }\n",
       "\n",
       "                .geemap-colab {\n",
       "                    background-color: var(--colab-primary-surface-color, white);\n",
       "                }\n",
       "\n",
       "                .geemap-colab .jupyter-button {\n",
       "                    --jp-layout-color3: var(--colab-primary-surface-color, white);\n",
       "                }\n",
       "            </style>\n",
       "            "
      ],
      "text/plain": [
       "<IPython.core.display.HTML object>"
      ]
     },
     "metadata": {},
     "output_type": "display_data"
    },
    {
     "data": {
      "application/vnd.jupyter.widget-view+json": {
       "model_id": "60b9a77263154a4fba19a788cfacf69c",
       "version_major": 2,
       "version_minor": 0
      },
      "text/plain": [
       "Map(center=[51.055719127031935, 10.373828310619029], controls=(WidgetControl(options=['position', 'transparent…"
      ]
     },
     "execution_count": 73,
     "metadata": {},
     "output_type": "execute_result"
    }
   ],
   "source": [
    "# Import Germany Shapefile\n",
    "de_roi = ee.FeatureCollection('users/geonextgis/Germany_Administrative_Level_2')\n",
    "poly_style = {'fillColor': '00000000', 'color': 'black', 'width': 1}\n",
    "Map = geemap.Map(basemap='Esri.WorldImagery')\n",
    "Map.addLayer(de_roi.style(**poly_style), {}, 'DE ROI')\n",
    "Map.centerObject(de_roi, 6)\n",
    "Map"
   ]
  },
  {
   "cell_type": "markdown",
   "metadata": {},
   "source": [
    "## **Read the Datasets**"
   ]
  },
  {
   "cell_type": "code",
   "execution_count": 74,
   "metadata": {},
   "outputs": [
    {
     "data": {
      "text/html": [
       "\n",
       "            <style>\n",
       "                .geemap-dark {\n",
       "                    --jp-widgets-color: white;\n",
       "                    --jp-widgets-label-color: white;\n",
       "                    --jp-ui-font-color1: white;\n",
       "                    --jp-layout-color2: #454545;\n",
       "                    background-color: #383838;\n",
       "                }\n",
       "\n",
       "                .geemap-dark .jupyter-button {\n",
       "                    --jp-layout-color3: #383838;\n",
       "                }\n",
       "\n",
       "                .geemap-colab {\n",
       "                    background-color: var(--colab-primary-surface-color, white);\n",
       "                }\n",
       "\n",
       "                .geemap-colab .jupyter-button {\n",
       "                    --jp-layout-color3: var(--colab-primary-surface-color, white);\n",
       "                }\n",
       "            </style>\n",
       "            "
      ],
      "text/plain": [
       "<IPython.core.display.HTML object>"
      ]
     },
     "metadata": {},
     "output_type": "display_data"
    },
    {
     "name": "stdout",
     "output_type": "stream",
     "text": [
      "(400, 6)\n"
     ]
    },
    {
     "data": {
      "text/html": [
       "<div>\n",
       "<style scoped>\n",
       "    .dataframe tbody tr th:only-of-type {\n",
       "        vertical-align: middle;\n",
       "    }\n",
       "\n",
       "    .dataframe tbody tr th {\n",
       "        vertical-align: top;\n",
       "    }\n",
       "\n",
       "    .dataframe thead th {\n",
       "        text-align: right;\n",
       "    }\n",
       "</style>\n",
       "<table border=\"1\" class=\"dataframe\">\n",
       "  <thead>\n",
       "    <tr style=\"text-align: right;\">\n",
       "      <th></th>\n",
       "      <th>NUTS_ID</th>\n",
       "      <th>LEVL_CODE</th>\n",
       "      <th>CNTR_CODE</th>\n",
       "      <th>NAME_LATN</th>\n",
       "      <th>NUTS_NAME</th>\n",
       "      <th>geometry</th>\n",
       "    </tr>\n",
       "  </thead>\n",
       "  <tbody>\n",
       "    <tr>\n",
       "      <th>0</th>\n",
       "      <td>DE11B</td>\n",
       "      <td>3</td>\n",
       "      <td>DE</td>\n",
       "      <td>Main-Tauber-Kreis</td>\n",
       "      <td>Main-Tauber-Kreis</td>\n",
       "      <td>POLYGON ((1074230.536 6408356.046, 1073820.827...</td>\n",
       "    </tr>\n",
       "    <tr>\n",
       "      <th>1</th>\n",
       "      <td>DE11C</td>\n",
       "      <td>3</td>\n",
       "      <td>DE</td>\n",
       "      <td>Heidenheim</td>\n",
       "      <td>Heidenheim</td>\n",
       "      <td>MULTIPOLYGON (((1131091.261 6235073.568, 11312...</td>\n",
       "    </tr>\n",
       "    <tr>\n",
       "      <th>2</th>\n",
       "      <td>DE11D</td>\n",
       "      <td>3</td>\n",
       "      <td>DE</td>\n",
       "      <td>Ostalbkreis</td>\n",
       "      <td>Ostalbkreis</td>\n",
       "      <td>MULTIPOLYGON (((1141777.678 6284962.486, 11412...</td>\n",
       "    </tr>\n",
       "    <tr>\n",
       "      <th>3</th>\n",
       "      <td>DE121</td>\n",
       "      <td>3</td>\n",
       "      <td>DE</td>\n",
       "      <td>Baden-Baden, Stadtkreis</td>\n",
       "      <td>Baden-Baden, Stadtkreis</td>\n",
       "      <td>MULTIPOLYGON (((910859.613 6248068.047, 913127...</td>\n",
       "    </tr>\n",
       "    <tr>\n",
       "      <th>4</th>\n",
       "      <td>DE122</td>\n",
       "      <td>3</td>\n",
       "      <td>DE</td>\n",
       "      <td>Karlsruhe, Stadtkreis</td>\n",
       "      <td>Karlsruhe, Stadtkreis</td>\n",
       "      <td>POLYGON ((938225.711 6286986.826, 940668.057 6...</td>\n",
       "    </tr>\n",
       "  </tbody>\n",
       "</table>\n",
       "</div>"
      ],
      "text/plain": [
       "  NUTS_ID  LEVL_CODE CNTR_CODE                NAME_LATN  \\\n",
       "0   DE11B          3        DE        Main-Tauber-Kreis   \n",
       "1   DE11C          3        DE               Heidenheim   \n",
       "2   DE11D          3        DE              Ostalbkreis   \n",
       "3   DE121          3        DE  Baden-Baden, Stadtkreis   \n",
       "4   DE122          3        DE    Karlsruhe, Stadtkreis   \n",
       "\n",
       "                 NUTS_NAME                                           geometry  \n",
       "0        Main-Tauber-Kreis  POLYGON ((1074230.536 6408356.046, 1073820.827...  \n",
       "1               Heidenheim  MULTIPOLYGON (((1131091.261 6235073.568, 11312...  \n",
       "2              Ostalbkreis  MULTIPOLYGON (((1141777.678 6284962.486, 11412...  \n",
       "3  Baden-Baden, Stadtkreis  MULTIPOLYGON (((910859.613 6248068.047, 913127...  \n",
       "4    Karlsruhe, Stadtkreis  POLYGON ((938225.711 6286986.826, 940668.057 6...  "
      ]
     },
     "execution_count": 74,
     "metadata": {},
     "output_type": "execute_result"
    }
   ],
   "source": [
    "# Read the DE NUTS3 Shapefile\n",
    "de_nuts3_gdf = gpd.read_file(\"datasets\\shapefiles\\DE_NUTS\\DE_NUTS_3.shp\")\n",
    "de_nuts3_gdf = de_nuts3_gdf[de_nuts3_gdf['LEVL_CODE']==3] # Filter for NUTS3\n",
    "print(de_nuts3_gdf.shape)\n",
    "de_nuts3_gdf.head()"
   ]
  },
  {
   "cell_type": "code",
   "execution_count": 75,
   "metadata": {},
   "outputs": [
    {
     "data": {
      "text/html": [
       "\n",
       "            <style>\n",
       "                .geemap-dark {\n",
       "                    --jp-widgets-color: white;\n",
       "                    --jp-widgets-label-color: white;\n",
       "                    --jp-ui-font-color1: white;\n",
       "                    --jp-layout-color2: #454545;\n",
       "                    background-color: #383838;\n",
       "                }\n",
       "\n",
       "                .geemap-dark .jupyter-button {\n",
       "                    --jp-layout-color3: #383838;\n",
       "                }\n",
       "\n",
       "                .geemap-colab {\n",
       "                    background-color: var(--colab-primary-surface-color, white);\n",
       "                }\n",
       "\n",
       "                .geemap-colab .jupyter-button {\n",
       "                    --jp-layout-color3: var(--colab-primary-surface-color, white);\n",
       "                }\n",
       "            </style>\n",
       "            "
      ],
      "text/plain": [
       "<IPython.core.display.HTML object>"
      ]
     },
     "metadata": {},
     "output_type": "display_data"
    },
    {
     "name": "stdout",
     "output_type": "stream",
     "text": [
      "Soil coordinates data shape: (3104, 3)\n",
      "Soil coordinates attributes shape: (3087, 31)\n"
     ]
    }
   ],
   "source": [
    "# Read the soil coordinates\n",
    "soil_coords_df = pd.read_csv(\"datasets\\csvs\\Site_Soil_BZE_WGS84_Coords.csv\")\n",
    "\n",
    "# Read the soil attributes\n",
    "soil_attributes_df = pd.read_excel(\n",
    "    \"datasets\\csvs\\SoilData.xlsx\",\n",
    "    sheet_name='SoilData'\n",
    ")\n",
    "soil_attributes_df.drop(columns=['Lon', 'Lat'], inplace=True)\n",
    "soil_attributes_df.rename(columns={'Location_id': 'PointID'}, inplace=True)\n",
    "\n",
    "print('Soil coordinates data shape:', soil_coords_df.shape)\n",
    "print('Soil coordinates attributes shape:', soil_attributes_df.shape)"
   ]
  },
  {
   "cell_type": "code",
   "execution_count": 76,
   "metadata": {},
   "outputs": [
    {
     "data": {
      "text/html": [
       "\n",
       "            <style>\n",
       "                .geemap-dark {\n",
       "                    --jp-widgets-color: white;\n",
       "                    --jp-widgets-label-color: white;\n",
       "                    --jp-ui-font-color1: white;\n",
       "                    --jp-layout-color2: #454545;\n",
       "                    background-color: #383838;\n",
       "                }\n",
       "\n",
       "                .geemap-dark .jupyter-button {\n",
       "                    --jp-layout-color3: #383838;\n",
       "                }\n",
       "\n",
       "                .geemap-colab {\n",
       "                    background-color: var(--colab-primary-surface-color, white);\n",
       "                }\n",
       "\n",
       "                .geemap-colab .jupyter-button {\n",
       "                    --jp-layout-color3: var(--colab-primary-surface-color, white);\n",
       "                }\n",
       "            </style>\n",
       "            "
      ],
      "text/plain": [
       "<IPython.core.display.HTML object>"
      ]
     },
     "metadata": {},
     "output_type": "display_data"
    }
   ],
   "source": [
    "# Read the ESA WorldCover dataset\n",
    "esa_lulc = ee.ImageCollection(\"ESA/WorldCover/v100\").first()\n",
    "visualization = {\n",
    "  'bands': ['Map'],\n",
    "}\n",
    "Map.addLayer(esa_lulc, visualization, 'ESA LULC', opacity=0.6)"
   ]
  },
  {
   "cell_type": "markdown",
   "metadata": {},
   "source": [
    "## **Soil Data Preparation**"
   ]
  },
  {
   "cell_type": "code",
   "execution_count": 77,
   "metadata": {},
   "outputs": [
    {
     "data": {
      "text/html": [
       "\n",
       "            <style>\n",
       "                .geemap-dark {\n",
       "                    --jp-widgets-color: white;\n",
       "                    --jp-widgets-label-color: white;\n",
       "                    --jp-ui-font-color1: white;\n",
       "                    --jp-layout-color2: #454545;\n",
       "                    background-color: #383838;\n",
       "                }\n",
       "\n",
       "                .geemap-dark .jupyter-button {\n",
       "                    --jp-layout-color3: #383838;\n",
       "                }\n",
       "\n",
       "                .geemap-colab {\n",
       "                    background-color: var(--colab-primary-surface-color, white);\n",
       "                }\n",
       "\n",
       "                .geemap-colab .jupyter-button {\n",
       "                    --jp-layout-color3: var(--colab-primary-surface-color, white);\n",
       "                }\n",
       "            </style>\n",
       "            "
      ],
      "text/plain": [
       "<IPython.core.display.HTML object>"
      ]
     },
     "metadata": {},
     "output_type": "display_data"
    },
    {
     "name": "stdout",
     "output_type": "stream",
     "text": [
      "(3104, 4)\n"
     ]
    },
    {
     "data": {
      "text/html": [
       "<div>\n",
       "<style scoped>\n",
       "    .dataframe tbody tr th:only-of-type {\n",
       "        vertical-align: middle;\n",
       "    }\n",
       "\n",
       "    .dataframe tbody tr th {\n",
       "        vertical-align: top;\n",
       "    }\n",
       "\n",
       "    .dataframe thead th {\n",
       "        text-align: right;\n",
       "    }\n",
       "</style>\n",
       "<table border=\"1\" class=\"dataframe\">\n",
       "  <thead>\n",
       "    <tr style=\"text-align: right;\">\n",
       "      <th></th>\n",
       "      <th>PointID</th>\n",
       "      <th>Longitude</th>\n",
       "      <th>Latitude</th>\n",
       "      <th>geometry</th>\n",
       "    </tr>\n",
       "  </thead>\n",
       "  <tbody>\n",
       "    <tr>\n",
       "      <th>0</th>\n",
       "      <td>2</td>\n",
       "      <td>8.411608</td>\n",
       "      <td>54.859923</td>\n",
       "      <td>POINT (936375.919 7334727.347)</td>\n",
       "    </tr>\n",
       "    <tr>\n",
       "      <th>1</th>\n",
       "      <td>3</td>\n",
       "      <td>8.697143</td>\n",
       "      <td>54.864382</td>\n",
       "      <td>POINT (968161.53 7335589.787)</td>\n",
       "    </tr>\n",
       "    <tr>\n",
       "      <th>2</th>\n",
       "      <td>4</td>\n",
       "      <td>8.765298</td>\n",
       "      <td>54.866979</td>\n",
       "      <td>POINT (975748.51 7336092.132)</td>\n",
       "    </tr>\n",
       "    <tr>\n",
       "      <th>3</th>\n",
       "      <td>5</td>\n",
       "      <td>8.959032</td>\n",
       "      <td>54.863920</td>\n",
       "      <td>POINT (997314.88 7335500.425)</td>\n",
       "    </tr>\n",
       "    <tr>\n",
       "      <th>4</th>\n",
       "      <td>6</td>\n",
       "      <td>9.078456</td>\n",
       "      <td>54.870685</td>\n",
       "      <td>POINT (1010609.099 7336809.049)</td>\n",
       "    </tr>\n",
       "  </tbody>\n",
       "</table>\n",
       "</div>"
      ],
      "text/plain": [
       "   PointID  Longitude   Latitude                         geometry\n",
       "0        2   8.411608  54.859923   POINT (936375.919 7334727.347)\n",
       "1        3   8.697143  54.864382    POINT (968161.53 7335589.787)\n",
       "2        4   8.765298  54.866979    POINT (975748.51 7336092.132)\n",
       "3        5   8.959032  54.863920    POINT (997314.88 7335500.425)\n",
       "4        6   9.078456  54.870685  POINT (1010609.099 7336809.049)"
      ]
     },
     "execution_count": 77,
     "metadata": {},
     "output_type": "execute_result"
    }
   ],
   "source": [
    "# Convert the soil coordinates into geodataframe\n",
    "soil_coords_geometry = gpd.points_from_xy(soil_coords_df['Longitude'], soil_coords_df['Latitude'], crs=4326)\n",
    "soil_coords_gdf = gpd.GeoDataFrame(soil_coords_df, geometry=soil_coords_geometry).to_crs(epsg=3857)\n",
    "print(soil_coords_gdf.shape)\n",
    "soil_coords_gdf.head()"
   ]
  },
  {
   "cell_type": "code",
   "execution_count": 78,
   "metadata": {},
   "outputs": [
    {
     "data": {
      "text/html": [
       "\n",
       "            <style>\n",
       "                .geemap-dark {\n",
       "                    --jp-widgets-color: white;\n",
       "                    --jp-widgets-label-color: white;\n",
       "                    --jp-ui-font-color1: white;\n",
       "                    --jp-layout-color2: #454545;\n",
       "                    background-color: #383838;\n",
       "                }\n",
       "\n",
       "                .geemap-dark .jupyter-button {\n",
       "                    --jp-layout-color3: #383838;\n",
       "                }\n",
       "\n",
       "                .geemap-colab {\n",
       "                    background-color: var(--colab-primary-surface-color, white);\n",
       "                }\n",
       "\n",
       "                .geemap-colab .jupyter-button {\n",
       "                    --jp-layout-color3: var(--colab-primary-surface-color, white);\n",
       "                }\n",
       "            </style>\n",
       "            "
      ],
      "text/plain": [
       "<IPython.core.display.HTML object>"
      ]
     },
     "metadata": {},
     "output_type": "display_data"
    },
    {
     "name": "stdout",
     "output_type": "stream",
     "text": [
      "(3104, 7)\n"
     ]
    },
    {
     "data": {
      "text/html": [
       "<div>\n",
       "<style scoped>\n",
       "    .dataframe tbody tr th:only-of-type {\n",
       "        vertical-align: middle;\n",
       "    }\n",
       "\n",
       "    .dataframe tbody tr th {\n",
       "        vertical-align: top;\n",
       "    }\n",
       "\n",
       "    .dataframe thead th {\n",
       "        text-align: right;\n",
       "    }\n",
       "</style>\n",
       "<table border=\"1\" class=\"dataframe\">\n",
       "  <thead>\n",
       "    <tr style=\"text-align: right;\">\n",
       "      <th></th>\n",
       "      <th>PointID</th>\n",
       "      <th>Longitude</th>\n",
       "      <th>Latitude</th>\n",
       "      <th>geometry</th>\n",
       "      <th>index_right</th>\n",
       "      <th>NUTS_ID</th>\n",
       "      <th>NUTS_NAME</th>\n",
       "    </tr>\n",
       "  </thead>\n",
       "  <tbody>\n",
       "    <tr>\n",
       "      <th>0</th>\n",
       "      <td>2</td>\n",
       "      <td>8.411608</td>\n",
       "      <td>54.859923</td>\n",
       "      <td>POINT (936375.919 7334727.347)</td>\n",
       "      <td>166.0</td>\n",
       "      <td>DEF07</td>\n",
       "      <td>Nordfriesland</td>\n",
       "    </tr>\n",
       "    <tr>\n",
       "      <th>1</th>\n",
       "      <td>3</td>\n",
       "      <td>8.697143</td>\n",
       "      <td>54.864382</td>\n",
       "      <td>POINT (968161.53 7335589.787)</td>\n",
       "      <td>166.0</td>\n",
       "      <td>DEF07</td>\n",
       "      <td>Nordfriesland</td>\n",
       "    </tr>\n",
       "    <tr>\n",
       "      <th>2</th>\n",
       "      <td>4</td>\n",
       "      <td>8.765298</td>\n",
       "      <td>54.866979</td>\n",
       "      <td>POINT (975748.51 7336092.132)</td>\n",
       "      <td>166.0</td>\n",
       "      <td>DEF07</td>\n",
       "      <td>Nordfriesland</td>\n",
       "    </tr>\n",
       "    <tr>\n",
       "      <th>3</th>\n",
       "      <td>5</td>\n",
       "      <td>8.959032</td>\n",
       "      <td>54.863920</td>\n",
       "      <td>POINT (997314.88 7335500.425)</td>\n",
       "      <td>166.0</td>\n",
       "      <td>DEF07</td>\n",
       "      <td>Nordfriesland</td>\n",
       "    </tr>\n",
       "    <tr>\n",
       "      <th>4</th>\n",
       "      <td>6</td>\n",
       "      <td>9.078456</td>\n",
       "      <td>54.870685</td>\n",
       "      <td>POINT (1010609.099 7336809.049)</td>\n",
       "      <td>166.0</td>\n",
       "      <td>DEF07</td>\n",
       "      <td>Nordfriesland</td>\n",
       "    </tr>\n",
       "  </tbody>\n",
       "</table>\n",
       "</div>"
      ],
      "text/plain": [
       "   PointID  Longitude   Latitude                         geometry  \\\n",
       "0        2   8.411608  54.859923   POINT (936375.919 7334727.347)   \n",
       "1        3   8.697143  54.864382    POINT (968161.53 7335589.787)   \n",
       "2        4   8.765298  54.866979    POINT (975748.51 7336092.132)   \n",
       "3        5   8.959032  54.863920    POINT (997314.88 7335500.425)   \n",
       "4        6   9.078456  54.870685  POINT (1010609.099 7336809.049)   \n",
       "\n",
       "   index_right NUTS_ID      NUTS_NAME  \n",
       "0        166.0   DEF07  Nordfriesland  \n",
       "1        166.0   DEF07  Nordfriesland  \n",
       "2        166.0   DEF07  Nordfriesland  \n",
       "3        166.0   DEF07  Nordfriesland  \n",
       "4        166.0   DEF07  Nordfriesland  "
      ]
     },
     "execution_count": 78,
     "metadata": {},
     "output_type": "execute_result"
    }
   ],
   "source": [
    "# Merge the NUTS3 information in the soil coordinates dataframe\n",
    "soil_coords_gdf = soil_coords_gdf.sjoin(de_nuts3_gdf[['NUTS_ID', 'NUTS_NAME', 'geometry']], how='left', predicate='intersects')\n",
    "print(soil_coords_gdf.shape)\n",
    "soil_coords_gdf.head()"
   ]
  },
  {
   "cell_type": "code",
   "execution_count": null,
   "metadata": {},
   "outputs": [
    {
     "data": {
      "text/html": [
       "\n",
       "            <style>\n",
       "                .geemap-dark {\n",
       "                    --jp-widgets-color: white;\n",
       "                    --jp-widgets-label-color: white;\n",
       "                    --jp-ui-font-color1: white;\n",
       "                    --jp-layout-color2: #454545;\n",
       "                    background-color: #383838;\n",
       "                }\n",
       "\n",
       "                .geemap-dark .jupyter-button {\n",
       "                    --jp-layout-color3: #383838;\n",
       "                }\n",
       "\n",
       "                .geemap-colab {\n",
       "                    background-color: var(--colab-primary-surface-color, white);\n",
       "                }\n",
       "\n",
       "                .geemap-colab .jupyter-button {\n",
       "                    --jp-layout-color3: var(--colab-primary-surface-color, white);\n",
       "                }\n",
       "            </style>\n",
       "            "
      ],
      "text/plain": [
       "<IPython.core.display.HTML object>"
      ]
     },
     "metadata": {},
     "output_type": "display_data"
    },
    {
     "name": "stdout",
     "output_type": "stream",
     "text": [
      "(3087, 36)\n"
     ]
    },
    {
     "data": {
      "text/html": [
       "<div>\n",
       "<style scoped>\n",
       "    .dataframe tbody tr th:only-of-type {\n",
       "        vertical-align: middle;\n",
       "    }\n",
       "\n",
       "    .dataframe tbody tr th {\n",
       "        vertical-align: top;\n",
       "    }\n",
       "\n",
       "    .dataframe thead th {\n",
       "        text-align: right;\n",
       "    }\n",
       "</style>\n",
       "<table border=\"1\" class=\"dataframe\">\n",
       "  <thead>\n",
       "    <tr style=\"text-align: right;\">\n",
       "      <th></th>\n",
       "      <th>PointID</th>\n",
       "      <th>Longitude</th>\n",
       "      <th>Latitude</th>\n",
       "      <th>NUTS_ID</th>\n",
       "      <th>NUTS_NAME</th>\n",
       "      <th>geometry</th>\n",
       "      <th>SoilLayerDepth_10cm</th>\n",
       "      <th>SoilLayerDepth_30cm</th>\n",
       "      <th>SoilLayerDepth_50cm</th>\n",
       "      <th>SoilLayerDepth_70cm</th>\n",
       "      <th>...</th>\n",
       "      <th>BD_50cm</th>\n",
       "      <th>BD_70cm</th>\n",
       "      <th>BD_1m</th>\n",
       "      <th>BD_2m</th>\n",
       "      <th>OC_10cm</th>\n",
       "      <th>OC_30cm</th>\n",
       "      <th>OC_50cm</th>\n",
       "      <th>OC_70cm</th>\n",
       "      <th>OC_1m</th>\n",
       "      <th>OC_2m</th>\n",
       "    </tr>\n",
       "  </thead>\n",
       "  <tbody>\n",
       "    <tr>\n",
       "      <th>0</th>\n",
       "      <td>2</td>\n",
       "      <td>8.411608</td>\n",
       "      <td>54.859923</td>\n",
       "      <td>DEF07</td>\n",
       "      <td>Nordfriesland</td>\n",
       "      <td>POINT (3462285.321 6081355.028)</td>\n",
       "      <td>0.1</td>\n",
       "      <td>0.3</td>\n",
       "      <td>0.5</td>\n",
       "      <td>0.7</td>\n",
       "      <td>...</td>\n",
       "      <td>1.45</td>\n",
       "      <td>1.30</td>\n",
       "      <td>1.54</td>\n",
       "      <td>1.54</td>\n",
       "      <td>2.183</td>\n",
       "      <td>2.075</td>\n",
       "      <td>1.151</td>\n",
       "      <td>0.691</td>\n",
       "      <td>0.157</td>\n",
       "      <td>0.157</td>\n",
       "    </tr>\n",
       "    <tr>\n",
       "      <th>1</th>\n",
       "      <td>3</td>\n",
       "      <td>8.697143</td>\n",
       "      <td>54.864382</td>\n",
       "      <td>DEF07</td>\n",
       "      <td>Nordfriesland</td>\n",
       "      <td>POINT (3480623.416 6081734.949)</td>\n",
       "      <td>0.1</td>\n",
       "      <td>0.3</td>\n",
       "      <td>0.5</td>\n",
       "      <td>0.7</td>\n",
       "      <td>...</td>\n",
       "      <td>1.57</td>\n",
       "      <td>1.39</td>\n",
       "      <td>1.47</td>\n",
       "      <td>1.47</td>\n",
       "      <td>2.064</td>\n",
       "      <td>1.589</td>\n",
       "      <td>0.574</td>\n",
       "      <td>0.579</td>\n",
       "      <td>0.581</td>\n",
       "      <td>0.581</td>\n",
       "    </tr>\n",
       "    <tr>\n",
       "      <th>2</th>\n",
       "      <td>4</td>\n",
       "      <td>8.765298</td>\n",
       "      <td>54.866979</td>\n",
       "      <td>DEF07</td>\n",
       "      <td>Nordfriesland</td>\n",
       "      <td>POINT (3485000.58 6082007.3)</td>\n",
       "      <td>0.1</td>\n",
       "      <td>0.3</td>\n",
       "      <td>0.5</td>\n",
       "      <td>0.7</td>\n",
       "      <td>...</td>\n",
       "      <td>1.37</td>\n",
       "      <td>1.48</td>\n",
       "      <td>1.49</td>\n",
       "      <td>1.49</td>\n",
       "      <td>1.915</td>\n",
       "      <td>1.517</td>\n",
       "      <td>2.220</td>\n",
       "      <td>1.028</td>\n",
       "      <td>0.652</td>\n",
       "      <td>0.652</td>\n",
       "    </tr>\n",
       "    <tr>\n",
       "      <th>3</th>\n",
       "      <td>5</td>\n",
       "      <td>8.959032</td>\n",
       "      <td>54.863920</td>\n",
       "      <td>DEF07</td>\n",
       "      <td>Nordfriesland</td>\n",
       "      <td>POINT (3497439.177 6081642.411)</td>\n",
       "      <td>0.1</td>\n",
       "      <td>0.3</td>\n",
       "      <td>0.5</td>\n",
       "      <td>0.7</td>\n",
       "      <td>...</td>\n",
       "      <td>1.45</td>\n",
       "      <td>1.48</td>\n",
       "      <td>1.60</td>\n",
       "      <td>1.60</td>\n",
       "      <td>3.375</td>\n",
       "      <td>1.701</td>\n",
       "      <td>1.233</td>\n",
       "      <td>1.089</td>\n",
       "      <td>0.674</td>\n",
       "      <td>0.674</td>\n",
       "    </tr>\n",
       "    <tr>\n",
       "      <th>4</th>\n",
       "      <td>6</td>\n",
       "      <td>9.078456</td>\n",
       "      <td>54.870685</td>\n",
       "      <td>DEF07</td>\n",
       "      <td>Nordfriesland</td>\n",
       "      <td>POINT (3505106.596 6082397.618)</td>\n",
       "      <td>0.1</td>\n",
       "      <td>0.3</td>\n",
       "      <td>0.5</td>\n",
       "      <td>0.7</td>\n",
       "      <td>...</td>\n",
       "      <td>1.42</td>\n",
       "      <td>0.89</td>\n",
       "      <td>1.35</td>\n",
       "      <td>1.35</td>\n",
       "      <td>2.447</td>\n",
       "      <td>1.166</td>\n",
       "      <td>0.398</td>\n",
       "      <td>3.570</td>\n",
       "      <td>0.241</td>\n",
       "      <td>0.241</td>\n",
       "    </tr>\n",
       "  </tbody>\n",
       "</table>\n",
       "<p>5 rows × 36 columns</p>\n",
       "</div>"
      ],
      "text/plain": [
       "   PointID  Longitude   Latitude NUTS_ID      NUTS_NAME  \\\n",
       "0        2   8.411608  54.859923   DEF07  Nordfriesland   \n",
       "1        3   8.697143  54.864382   DEF07  Nordfriesland   \n",
       "2        4   8.765298  54.866979   DEF07  Nordfriesland   \n",
       "3        5   8.959032  54.863920   DEF07  Nordfriesland   \n",
       "4        6   9.078456  54.870685   DEF07  Nordfriesland   \n",
       "\n",
       "                          geometry  SoilLayerDepth_10cm  SoilLayerDepth_30cm  \\\n",
       "0  POINT (3462285.321 6081355.028)                  0.1                  0.3   \n",
       "1  POINT (3480623.416 6081734.949)                  0.1                  0.3   \n",
       "2     POINT (3485000.58 6082007.3)                  0.1                  0.3   \n",
       "3  POINT (3497439.177 6081642.411)                  0.1                  0.3   \n",
       "4  POINT (3505106.596 6082397.618)                  0.1                  0.3   \n",
       "\n",
       "   SoilLayerDepth_50cm  SoilLayerDepth_70cm  ...  BD_50cm  BD_70cm  BD_1m  \\\n",
       "0                  0.5                  0.7  ...     1.45     1.30   1.54   \n",
       "1                  0.5                  0.7  ...     1.57     1.39   1.47   \n",
       "2                  0.5                  0.7  ...     1.37     1.48   1.49   \n",
       "3                  0.5                  0.7  ...     1.45     1.48   1.60   \n",
       "4                  0.5                  0.7  ...     1.42     0.89   1.35   \n",
       "\n",
       "   BD_2m  OC_10cm  OC_30cm  OC_50cm  OC_70cm  OC_1m  OC_2m  \n",
       "0   1.54    2.183    2.075    1.151    0.691  0.157  0.157  \n",
       "1   1.47    2.064    1.589    0.574    0.579  0.581  0.581  \n",
       "2   1.49    1.915    1.517    2.220    1.028  0.652  0.652  \n",
       "3   1.60    3.375    1.701    1.233    1.089  0.674  0.674  \n",
       "4   1.35    2.447    1.166    0.398    3.570  0.241  0.241  \n",
       "\n",
       "[5 rows x 36 columns]"
      ]
     },
     "execution_count": 84,
     "metadata": {},
     "output_type": "execute_result"
    }
   ],
   "source": [
    "# Merge the soil coordinate information in the soil attributes dataframe\n",
    "soil_attributes_gdf = pd.merge(\n",
    "    left=soil_coords_gdf[['PointID', 'Longitude', 'Latitude', 'NUTS_ID', 'NUTS_NAME', 'geometry']], \n",
    "    right=soil_attributes_df, \n",
    "    on='PointID', \n",
    "    how='inner')\n",
    "\n",
    "soil_attributes_gdf.columns = [col.replace('.0', '') for col in soil_attributes_gdf.columns]\n",
    "soil_attributes_gdf.to_crs(crs='epsg:31467', inplace=True) # change the CRS\n",
    "soil_attributes_ee = geemap.gdf_to_ee(soil_attributes_gdf, geodesic=False)\n",
    "\n",
    "soil_style = {'color': 'green', 'pointSize': 5}\n",
    "Map.addLayer(soil_attributes_ee.style(**soil_style), {}, 'Soil Points')\n",
    "\n",
    "print(soil_attributes_gdf.shape)\n",
    "soil_attributes_gdf.head()"
   ]
  },
  {
   "cell_type": "code",
   "execution_count": 101,
   "metadata": {},
   "outputs": [
    {
     "data": {
      "text/html": [
       "\n",
       "            <style>\n",
       "                .geemap-dark {\n",
       "                    --jp-widgets-color: white;\n",
       "                    --jp-widgets-label-color: white;\n",
       "                    --jp-ui-font-color1: white;\n",
       "                    --jp-layout-color2: #454545;\n",
       "                    background-color: #383838;\n",
       "                }\n",
       "\n",
       "                .geemap-dark .jupyter-button {\n",
       "                    --jp-layout-color3: #383838;\n",
       "                }\n",
       "\n",
       "                .geemap-colab {\n",
       "                    background-color: var(--colab-primary-surface-color, white);\n",
       "                }\n",
       "\n",
       "                .geemap-colab .jupyter-button {\n",
       "                    --jp-layout-color3: var(--colab-primary-surface-color, white);\n",
       "                }\n",
       "            </style>\n",
       "            "
      ],
      "text/plain": [
       "<IPython.core.display.HTML object>"
      ]
     },
     "metadata": {},
     "output_type": "display_data"
    }
   ],
   "source": [
    "# Save the Soil data\n",
    "# soil_attributes_gdf.to_csv(os.path.join(out_csv_dir, 'DE_Soil_BZE_Master.csv'), index=False)\n",
    "# soil_attributes_gdf.to_file(os.path.join(out_master_dir, 'DE_Soil_BZE_Master.shp'), index=False)"
   ]
  },
  {
   "cell_type": "markdown",
   "metadata": {},
   "source": [
    "## **Climate Grid Preparation**"
   ]
  },
  {
   "cell_type": "code",
   "execution_count": 97,
   "metadata": {},
   "outputs": [
    {
     "data": {
      "text/html": [
       "\n",
       "            <style>\n",
       "                .geemap-dark {\n",
       "                    --jp-widgets-color: white;\n",
       "                    --jp-widgets-label-color: white;\n",
       "                    --jp-ui-font-color1: white;\n",
       "                    --jp-layout-color2: #454545;\n",
       "                    background-color: #383838;\n",
       "                }\n",
       "\n",
       "                .geemap-dark .jupyter-button {\n",
       "                    --jp-layout-color3: #383838;\n",
       "                }\n",
       "\n",
       "                .geemap-colab {\n",
       "                    background-color: var(--colab-primary-surface-color, white);\n",
       "                }\n",
       "\n",
       "                .geemap-colab .jupyter-button {\n",
       "                    --jp-layout-color3: var(--colab-primary-surface-color, white);\n",
       "                }\n",
       "            </style>\n",
       "            "
      ],
      "text/plain": [
       "<IPython.core.display.HTML object>"
      ]
     },
     "metadata": {},
     "output_type": "display_data"
    },
    {
     "name": "stdout",
     "output_type": "stream",
     "text": [
      "(358303, 4)\n"
     ]
    },
    {
     "data": {
      "text/html": [
       "<div>\n",
       "<style scoped>\n",
       "    .dataframe tbody tr th:only-of-type {\n",
       "        vertical-align: middle;\n",
       "    }\n",
       "\n",
       "    .dataframe tbody tr th {\n",
       "        vertical-align: top;\n",
       "    }\n",
       "\n",
       "    .dataframe thead th {\n",
       "        text-align: right;\n",
       "    }\n",
       "</style>\n",
       "<table border=\"1\" class=\"dataframe\">\n",
       "  <thead>\n",
       "    <tr style=\"text-align: right;\">\n",
       "      <th></th>\n",
       "      <th>Latitude</th>\n",
       "      <th>Longitude</th>\n",
       "      <th>Row</th>\n",
       "      <th>Column</th>\n",
       "    </tr>\n",
       "  </thead>\n",
       "  <tbody>\n",
       "    <tr>\n",
       "      <th>0</th>\n",
       "      <td>55.054328</td>\n",
       "      <td>8.402969</td>\n",
       "      <td>0</td>\n",
       "      <td>181</td>\n",
       "    </tr>\n",
       "    <tr>\n",
       "      <th>1</th>\n",
       "      <td>55.054404</td>\n",
       "      <td>8.418616</td>\n",
       "      <td>0</td>\n",
       "      <td>182</td>\n",
       "    </tr>\n",
       "    <tr>\n",
       "      <th>2</th>\n",
       "      <td>55.045268</td>\n",
       "      <td>8.387459</td>\n",
       "      <td>1</td>\n",
       "      <td>180</td>\n",
       "    </tr>\n",
       "    <tr>\n",
       "      <th>3</th>\n",
       "      <td>55.045346</td>\n",
       "      <td>8.403102</td>\n",
       "      <td>1</td>\n",
       "      <td>181</td>\n",
       "    </tr>\n",
       "    <tr>\n",
       "      <th>4</th>\n",
       "      <td>55.036286</td>\n",
       "      <td>8.387596</td>\n",
       "      <td>2</td>\n",
       "      <td>180</td>\n",
       "    </tr>\n",
       "  </tbody>\n",
       "</table>\n",
       "</div>"
      ],
      "text/plain": [
       "    Latitude  Longitude  Row  Column\n",
       "0  55.054328   8.402969    0     181\n",
       "1  55.054404   8.418616    0     182\n",
       "2  55.045268   8.387459    1     180\n",
       "3  55.045346   8.403102    1     181\n",
       "4  55.036286   8.387596    2     180"
      ]
     },
     "execution_count": 97,
     "metadata": {},
     "output_type": "execute_result"
    }
   ],
   "source": [
    "# Read the DWD Climate JSON file\n",
    "dwd_json_path = \"datasets\\shapefiles\\dwd_ubn_latlon_to_rowcol.json\"\n",
    "\n",
    "with open(dwd_json_path, 'r') as file:\n",
    "    dwd_json = json.load(file)\n",
    "\n",
    "# Function to convert the json data into a table\n",
    "def json_to_table(data):\n",
    "    coords_info = [i[0] for i in dwd_json]\n",
    "    row_col_info = [i[1] for i in dwd_json]\n",
    "\n",
    "    coords_info = pd.DataFrame(coords_info, columns=['Latitude', 'Longitude'])\n",
    "    row_col_info = pd.DataFrame(row_col_info, columns=['Row', 'Column'])\n",
    "\n",
    "    final_df = pd.concat((coords_info, row_col_info), axis=1)\n",
    "\n",
    "    return final_df\n",
    "\n",
    "dwd_grid_df = json_to_table(dwd_json)\n",
    "print(dwd_grid_df.shape)\n",
    "dwd_grid_df.head()"
   ]
  },
  {
   "cell_type": "code",
   "execution_count": 98,
   "metadata": {},
   "outputs": [
    {
     "data": {
      "text/html": [
       "\n",
       "            <style>\n",
       "                .geemap-dark {\n",
       "                    --jp-widgets-color: white;\n",
       "                    --jp-widgets-label-color: white;\n",
       "                    --jp-ui-font-color1: white;\n",
       "                    --jp-layout-color2: #454545;\n",
       "                    background-color: #383838;\n",
       "                }\n",
       "\n",
       "                .geemap-dark .jupyter-button {\n",
       "                    --jp-layout-color3: #383838;\n",
       "                }\n",
       "\n",
       "                .geemap-colab {\n",
       "                    background-color: var(--colab-primary-surface-color, white);\n",
       "                }\n",
       "\n",
       "                .geemap-colab .jupyter-button {\n",
       "                    --jp-layout-color3: var(--colab-primary-surface-color, white);\n",
       "                }\n",
       "            </style>\n",
       "            "
      ],
      "text/plain": [
       "<IPython.core.display.HTML object>"
      ]
     },
     "metadata": {},
     "output_type": "display_data"
    },
    {
     "name": "stdout",
     "output_type": "stream",
     "text": [
      "(358303, 5)\n"
     ]
    },
    {
     "data": {
      "text/html": [
       "<div>\n",
       "<style scoped>\n",
       "    .dataframe tbody tr th:only-of-type {\n",
       "        vertical-align: middle;\n",
       "    }\n",
       "\n",
       "    .dataframe tbody tr th {\n",
       "        vertical-align: top;\n",
       "    }\n",
       "\n",
       "    .dataframe thead th {\n",
       "        text-align: right;\n",
       "    }\n",
       "</style>\n",
       "<table border=\"1\" class=\"dataframe\">\n",
       "  <thead>\n",
       "    <tr style=\"text-align: right;\">\n",
       "      <th></th>\n",
       "      <th>Latitude</th>\n",
       "      <th>Longitude</th>\n",
       "      <th>Row</th>\n",
       "      <th>Column</th>\n",
       "      <th>geometry</th>\n",
       "    </tr>\n",
       "  </thead>\n",
       "  <tbody>\n",
       "    <tr>\n",
       "      <th>0</th>\n",
       "      <td>55.054328</td>\n",
       "      <td>8.402969</td>\n",
       "      <td>0</td>\n",
       "      <td>181</td>\n",
       "      <td>POINT (8.40297 55.05433)</td>\n",
       "    </tr>\n",
       "    <tr>\n",
       "      <th>1</th>\n",
       "      <td>55.054404</td>\n",
       "      <td>8.418616</td>\n",
       "      <td>0</td>\n",
       "      <td>182</td>\n",
       "      <td>POINT (8.41862 55.0544)</td>\n",
       "    </tr>\n",
       "    <tr>\n",
       "      <th>2</th>\n",
       "      <td>55.045268</td>\n",
       "      <td>8.387459</td>\n",
       "      <td>1</td>\n",
       "      <td>180</td>\n",
       "      <td>POINT (8.38746 55.04527)</td>\n",
       "    </tr>\n",
       "    <tr>\n",
       "      <th>3</th>\n",
       "      <td>55.045346</td>\n",
       "      <td>8.403102</td>\n",
       "      <td>1</td>\n",
       "      <td>181</td>\n",
       "      <td>POINT (8.4031 55.04535)</td>\n",
       "    </tr>\n",
       "    <tr>\n",
       "      <th>4</th>\n",
       "      <td>55.036286</td>\n",
       "      <td>8.387596</td>\n",
       "      <td>2</td>\n",
       "      <td>180</td>\n",
       "      <td>POINT (8.3876 55.03629)</td>\n",
       "    </tr>\n",
       "  </tbody>\n",
       "</table>\n",
       "</div>"
      ],
      "text/plain": [
       "    Latitude  Longitude  Row  Column                  geometry\n",
       "0  55.054328   8.402969    0     181  POINT (8.40297 55.05433)\n",
       "1  55.054404   8.418616    0     182   POINT (8.41862 55.0544)\n",
       "2  55.045268   8.387459    1     180  POINT (8.38746 55.04527)\n",
       "3  55.045346   8.403102    1     181   POINT (8.4031 55.04535)\n",
       "4  55.036286   8.387596    2     180   POINT (8.3876 55.03629)"
      ]
     },
     "execution_count": 98,
     "metadata": {},
     "output_type": "execute_result"
    }
   ],
   "source": [
    "# Convert the data into geodataframe\n",
    "dwd_grid_gdf = gpd.GeoDataFrame(\n",
    "    dwd_grid_df, \n",
    "    geometry=gpd.points_from_xy(dwd_grid_df['Longitude'], dwd_grid_df['Latitude']),\n",
    "    crs=4326)\n",
    "print(dwd_grid_gdf.shape)\n",
    "dwd_grid_gdf.head()"
   ]
  },
  {
   "cell_type": "code",
   "execution_count": 99,
   "metadata": {},
   "outputs": [
    {
     "data": {
      "text/html": [
       "\n",
       "            <style>\n",
       "                .geemap-dark {\n",
       "                    --jp-widgets-color: white;\n",
       "                    --jp-widgets-label-color: white;\n",
       "                    --jp-ui-font-color1: white;\n",
       "                    --jp-layout-color2: #454545;\n",
       "                    background-color: #383838;\n",
       "                }\n",
       "\n",
       "                .geemap-dark .jupyter-button {\n",
       "                    --jp-layout-color3: #383838;\n",
       "                }\n",
       "\n",
       "                .geemap-colab {\n",
       "                    background-color: var(--colab-primary-surface-color, white);\n",
       "                }\n",
       "\n",
       "                .geemap-colab .jupyter-button {\n",
       "                    --jp-layout-color3: var(--colab-primary-surface-color, white);\n",
       "                }\n",
       "            </style>\n",
       "            "
      ],
      "text/plain": [
       "<IPython.core.display.HTML object>"
      ]
     },
     "metadata": {},
     "output_type": "display_data"
    }
   ],
   "source": [
    "# # Save the data\n",
    "# dwd_grid_df.to_csv(os.path.join(out_csv_dir, 'DE_DWD_UBN_Centroids.csv'), index=False)\n",
    "\n",
    "# dwd_grid_gdf.to_crs(31467).to_file(\"datasets\\shapefiles\\DE_DWD_UBN_GRIDS\\DE_DWD_UBN_Centroids_EPSG_31467.shp\")"
   ]
  },
  {
   "cell_type": "markdown",
   "metadata": {},
   "source": [
    "## **Filter Points falling on Cropland**"
   ]
  },
  {
   "cell_type": "code",
   "execution_count": 90,
   "metadata": {},
   "outputs": [
    {
     "data": {
      "text/html": [
       "\n",
       "            <style>\n",
       "                .geemap-dark {\n",
       "                    --jp-widgets-color: white;\n",
       "                    --jp-widgets-label-color: white;\n",
       "                    --jp-ui-font-color1: white;\n",
       "                    --jp-layout-color2: #454545;\n",
       "                    background-color: #383838;\n",
       "                }\n",
       "\n",
       "                .geemap-dark .jupyter-button {\n",
       "                    --jp-layout-color3: #383838;\n",
       "                }\n",
       "\n",
       "                .geemap-colab {\n",
       "                    background-color: var(--colab-primary-surface-color, white);\n",
       "                }\n",
       "\n",
       "                .geemap-colab .jupyter-button {\n",
       "                    --jp-layout-color3: var(--colab-primary-surface-color, white);\n",
       "                }\n",
       "            </style>\n",
       "            "
      ],
      "text/plain": [
       "<IPython.core.display.HTML object>"
      ]
     },
     "metadata": {},
     "output_type": "display_data"
    }
   ],
   "source": [
    "# Load the DWD grid centroids on EE Map object\n",
    "dwd_centroids_ee = ee.FeatureCollection('projects/ee-geonextgis/assets/DE_DWD_UBN_Centroids_EPSG_31467') \n",
    "dwd_style = {\n",
    "    'color': 'red',\n",
    "    'pointSize': 1,\n",
    "    'width': 1,\n",
    "    'fillColor': '00000000'\n",
    "}\n",
    "\n",
    "# Create a 500m buffer for each feature and get bounds\n",
    "dwd_grids_ee = dwd_centroids_ee.map(lambda f: f.buffer(500).bounds())\n",
    "\n",
    "Map.addLayer(dwd_centroids_ee.style(**dwd_style), {}, 'DWD Centroids', False)\n",
    "Map.addLayer(dwd_grids_ee.style(**dwd_style), {}, 'DWD Grids', False)"
   ]
  },
  {
   "cell_type": "code",
   "execution_count": 91,
   "metadata": {},
   "outputs": [
    {
     "data": {
      "text/html": [
       "\n",
       "            <style>\n",
       "                .geemap-dark {\n",
       "                    --jp-widgets-color: white;\n",
       "                    --jp-widgets-label-color: white;\n",
       "                    --jp-ui-font-color1: white;\n",
       "                    --jp-layout-color2: #454545;\n",
       "                    background-color: #383838;\n",
       "                }\n",
       "\n",
       "                .geemap-dark .jupyter-button {\n",
       "                    --jp-layout-color3: #383838;\n",
       "                }\n",
       "\n",
       "                .geemap-colab {\n",
       "                    background-color: var(--colab-primary-surface-color, white);\n",
       "                }\n",
       "\n",
       "                .geemap-colab .jupyter-button {\n",
       "                    --jp-layout-color3: var(--colab-primary-surface-color, white);\n",
       "                }\n",
       "            </style>\n",
       "            "
      ],
      "text/plain": [
       "<IPython.core.display.HTML object>"
      ]
     },
     "metadata": {},
     "output_type": "display_data"
    }
   ],
   "source": [
    "# # Iterate over the columns and extract the data in the temporary folder\n",
    "# for column_id in tqdm(sorted(dwd_grid_gdf['Column'].unique())):\n",
    "\n",
    "#     filered_column_cells = dwd_grids_ee.filter(ee.Filter.eq('Column', int(column_id)))\n",
    "\n",
    "#     try:\n",
    "#         out_data_path = os.path.join(out_temp_dir, f'Col_{column_id}_DWD_LULC.csv')\n",
    "\n",
    "#         # Extract LULC info for all the DWD cells\n",
    "#         dwd_lulc_zonal_stat = geemap.zonal_statistics_by_group(\n",
    "#             esa_lulc, filered_column_cells, out_data_path, statistics_type='SUM'\n",
    "#         )\n",
    "\n",
    "#         print(f'Column ID: {column_id} | Data saved at {out_data_path}')\n",
    "\n",
    "#     except:\n",
    "#         print(f'Column ID: {column_id} | Error.')"
   ]
  },
  {
   "cell_type": "code",
   "execution_count": 217,
   "metadata": {},
   "outputs": [
    {
     "data": {
      "text/html": [
       "\n",
       "            <style>\n",
       "                .geemap-dark {\n",
       "                    --jp-widgets-color: white;\n",
       "                    --jp-widgets-label-color: white;\n",
       "                    --jp-ui-font-color1: white;\n",
       "                    --jp-layout-color2: #454545;\n",
       "                    background-color: #383838;\n",
       "                }\n",
       "\n",
       "                .geemap-dark .jupyter-button {\n",
       "                    --jp-layout-color3: #383838;\n",
       "                }\n",
       "\n",
       "                .geemap-colab {\n",
       "                    background-color: var(--colab-primary-surface-color, white);\n",
       "                }\n",
       "\n",
       "                .geemap-colab .jupyter-button {\n",
       "                    --jp-layout-color3: var(--colab-primary-surface-color, white);\n",
       "                }\n",
       "            </style>\n",
       "            "
      ],
      "text/plain": [
       "<IPython.core.display.HTML object>"
      ]
     },
     "metadata": {},
     "output_type": "display_data"
    },
    {
     "data": {
      "application/vnd.jupyter.widget-view+json": {
       "model_id": "5a34a18e36904a399366573e6834d2f3",
       "version_major": 2,
       "version_minor": 0
      },
      "text/plain": [
       "  0%|          | 0/640 [00:00<?, ?it/s]"
      ]
     },
     "metadata": {},
     "output_type": "display_data"
    },
    {
     "name": "stdout",
     "output_type": "stream",
     "text": [
      "(190658, 5)\n"
     ]
    },
    {
     "data": {
      "text/html": [
       "<div>\n",
       "<style scoped>\n",
       "    .dataframe tbody tr th:only-of-type {\n",
       "        vertical-align: middle;\n",
       "    }\n",
       "\n",
       "    .dataframe tbody tr th {\n",
       "        vertical-align: top;\n",
       "    }\n",
       "\n",
       "    .dataframe thead th {\n",
       "        text-align: right;\n",
       "    }\n",
       "</style>\n",
       "<table border=\"1\" class=\"dataframe\">\n",
       "  <thead>\n",
       "    <tr style=\"text-align: right;\">\n",
       "      <th></th>\n",
       "      <th>Row</th>\n",
       "      <th>Column</th>\n",
       "      <th>Longitude</th>\n",
       "      <th>Latitude</th>\n",
       "      <th>geometry</th>\n",
       "    </tr>\n",
       "  </thead>\n",
       "  <tbody>\n",
       "    <tr>\n",
       "      <th>0</th>\n",
       "      <td>444</td>\n",
       "      <td>0</td>\n",
       "      <td>5.876024</td>\n",
       "      <td>51.024361</td>\n",
       "      <td>POINT (5.87602 51.02436)</td>\n",
       "    </tr>\n",
       "    <tr>\n",
       "      <th>1</th>\n",
       "      <td>477</td>\n",
       "      <td>100</td>\n",
       "      <td>7.311274</td>\n",
       "      <td>50.757258</td>\n",
       "      <td>POINT (7.31127 50.75726)</td>\n",
       "    </tr>\n",
       "    <tr>\n",
       "      <th>2</th>\n",
       "      <td>481</td>\n",
       "      <td>100</td>\n",
       "      <td>7.312566</td>\n",
       "      <td>50.721317</td>\n",
       "      <td>POINT (7.31257 50.72132)</td>\n",
       "    </tr>\n",
       "    <tr>\n",
       "      <th>3</th>\n",
       "      <td>482</td>\n",
       "      <td>100</td>\n",
       "      <td>7.312888</td>\n",
       "      <td>50.712331</td>\n",
       "      <td>POINT (7.31289 50.71233)</td>\n",
       "    </tr>\n",
       "    <tr>\n",
       "      <th>4</th>\n",
       "      <td>511</td>\n",
       "      <td>100</td>\n",
       "      <td>7.322172</td>\n",
       "      <td>50.451747</td>\n",
       "      <td>POINT (7.32217 50.45175)</td>\n",
       "    </tr>\n",
       "  </tbody>\n",
       "</table>\n",
       "</div>"
      ],
      "text/plain": [
       "   Row  Column  Longitude   Latitude                  geometry\n",
       "0  444       0   5.876024  51.024361  POINT (5.87602 51.02436)\n",
       "1  477     100   7.311274  50.757258  POINT (7.31127 50.75726)\n",
       "2  481     100   7.312566  50.721317  POINT (7.31257 50.72132)\n",
       "3  482     100   7.312888  50.712331  POINT (7.31289 50.71233)\n",
       "4  511     100   7.322172  50.451747  POINT (7.32217 50.45175)"
      ]
     },
     "execution_count": 217,
     "metadata": {},
     "output_type": "execute_result"
    }
   ],
   "source": [
    "# Merge all the data in a single file\n",
    "concatenated_df = pd.DataFrame()\n",
    "\n",
    "lulc_class_columns = ['Class_10', 'Class_20', 'Class_30', 'Class_40', 'Class_50', 'Class_60',\n",
    "                      'Class_70', 'Class_80', 'Class_90', 'Class_95', 'Class_100']\n",
    "\n",
    "temp_file_paths = glob(out_temp_dir + '\\\\*.csv')\n",
    "\n",
    "for path in tqdm(temp_file_paths):\n",
    "    temp_df = pd.read_csv(path)\n",
    "\n",
    "    for col in lulc_class_columns:\n",
    "        if col not in list(temp_df.columns):\n",
    "            temp_df[col] = 0\n",
    "\n",
    "        temp_df[col] = np.round((temp_df[col] / temp_df['Class_sum']) * 100, 4)\n",
    "\n",
    "    temp_df = temp_df[['Row', 'Column', 'Longitude', 'Latitude'] + lulc_class_columns]\n",
    "\n",
    "    concatenated_df = pd.concat((concatenated_df, temp_df), axis=0)\n",
    "\n",
    "# Filter the grid cell where cropland ('Class_40') area is more than 20%\n",
    "dwd_cropland_df = concatenated_df[concatenated_df['Class_40']>=20].iloc[:, :4]\n",
    "dwd_cropland_gdf = pd.merge(left=dwd_cropland_df, right=dwd_grid_gdf[['Row', 'Column', 'geometry']], on=['Row', 'Column'], how='left')\n",
    "dwd_cropland_gdf = gpd.GeoDataFrame(dwd_cropland_gdf)\n",
    "print(dwd_cropland_gdf.shape)\n",
    "dwd_cropland_gdf.head()"
   ]
  },
  {
   "cell_type": "code",
   "execution_count": 218,
   "metadata": {},
   "outputs": [
    {
     "data": {
      "text/html": [
       "\n",
       "            <style>\n",
       "                .geemap-dark {\n",
       "                    --jp-widgets-color: white;\n",
       "                    --jp-widgets-label-color: white;\n",
       "                    --jp-ui-font-color1: white;\n",
       "                    --jp-layout-color2: #454545;\n",
       "                    background-color: #383838;\n",
       "                }\n",
       "\n",
       "                .geemap-dark .jupyter-button {\n",
       "                    --jp-layout-color3: #383838;\n",
       "                }\n",
       "\n",
       "                .geemap-colab {\n",
       "                    background-color: var(--colab-primary-surface-color, white);\n",
       "                }\n",
       "\n",
       "                .geemap-colab .jupyter-button {\n",
       "                    --jp-layout-color3: var(--colab-primary-surface-color, white);\n",
       "                }\n",
       "            </style>\n",
       "            "
      ],
      "text/plain": [
       "<IPython.core.display.HTML object>"
      ]
     },
     "metadata": {},
     "output_type": "display_data"
    },
    {
     "name": "stdout",
     "output_type": "stream",
     "text": [
      "(190364, 8)\n"
     ]
    },
    {
     "data": {
      "text/html": [
       "<div>\n",
       "<style scoped>\n",
       "    .dataframe tbody tr th:only-of-type {\n",
       "        vertical-align: middle;\n",
       "    }\n",
       "\n",
       "    .dataframe tbody tr th {\n",
       "        vertical-align: top;\n",
       "    }\n",
       "\n",
       "    .dataframe thead th {\n",
       "        text-align: right;\n",
       "    }\n",
       "</style>\n",
       "<table border=\"1\" class=\"dataframe\">\n",
       "  <thead>\n",
       "    <tr style=\"text-align: right;\">\n",
       "      <th></th>\n",
       "      <th>Cell_ID</th>\n",
       "      <th>Row</th>\n",
       "      <th>Column</th>\n",
       "      <th>Latitude</th>\n",
       "      <th>Longitude</th>\n",
       "      <th>NUTS_ID</th>\n",
       "      <th>NUTS_NAME</th>\n",
       "      <th>geometry</th>\n",
       "    </tr>\n",
       "  </thead>\n",
       "  <tbody>\n",
       "    <tr>\n",
       "      <th>0</th>\n",
       "      <td>0</td>\n",
       "      <td>703</td>\n",
       "      <td>234</td>\n",
       "      <td>48.737371</td>\n",
       "      <td>9.201742</td>\n",
       "      <td>DE111</td>\n",
       "      <td>Stuttgart, Stadtkreis</td>\n",
       "      <td>POINT (1024333.233 6230415.593)</td>\n",
       "    </tr>\n",
       "    <tr>\n",
       "      <th>1</th>\n",
       "      <td>1</td>\n",
       "      <td>691</td>\n",
       "      <td>236</td>\n",
       "      <td>48.845227</td>\n",
       "      <td>9.229425</td>\n",
       "      <td>DE111</td>\n",
       "      <td>Stuttgart, Stadtkreis</td>\n",
       "      <td>POINT (1027414.872 6248640.293)</td>\n",
       "    </tr>\n",
       "    <tr>\n",
       "      <th>2</th>\n",
       "      <td>2</td>\n",
       "      <td>707</td>\n",
       "      <td>233</td>\n",
       "      <td>48.701424</td>\n",
       "      <td>9.188012</td>\n",
       "      <td>DE111</td>\n",
       "      <td>Stuttgart, Stadtkreis</td>\n",
       "      <td>POINT (1022804.862 6224350.32)</td>\n",
       "    </tr>\n",
       "    <tr>\n",
       "      <th>3</th>\n",
       "      <td>3</td>\n",
       "      <td>706</td>\n",
       "      <td>233</td>\n",
       "      <td>48.710416</td>\n",
       "      <td>9.188046</td>\n",
       "      <td>DE111</td>\n",
       "      <td>Stuttgart, Stadtkreis</td>\n",
       "      <td>POINT (1022808.604 6225867.209)</td>\n",
       "    </tr>\n",
       "    <tr>\n",
       "      <th>4</th>\n",
       "      <td>4</td>\n",
       "      <td>705</td>\n",
       "      <td>233</td>\n",
       "      <td>48.719409</td>\n",
       "      <td>9.188080</td>\n",
       "      <td>DE111</td>\n",
       "      <td>Stuttgart, Stadtkreis</td>\n",
       "      <td>POINT (1022812.348 6227384.366)</td>\n",
       "    </tr>\n",
       "  </tbody>\n",
       "</table>\n",
       "</div>"
      ],
      "text/plain": [
       "   Cell_ID  Row  Column   Latitude  Longitude NUTS_ID              NUTS_NAME  \\\n",
       "0        0  703     234  48.737371   9.201742   DE111  Stuttgart, Stadtkreis   \n",
       "1        1  691     236  48.845227   9.229425   DE111  Stuttgart, Stadtkreis   \n",
       "2        2  707     233  48.701424   9.188012   DE111  Stuttgart, Stadtkreis   \n",
       "3        3  706     233  48.710416   9.188046   DE111  Stuttgart, Stadtkreis   \n",
       "4        4  705     233  48.719409   9.188080   DE111  Stuttgart, Stadtkreis   \n",
       "\n",
       "                          geometry  \n",
       "0  POINT (1024333.233 6230415.593)  \n",
       "1  POINT (1027414.872 6248640.293)  \n",
       "2   POINT (1022804.862 6224350.32)  \n",
       "3  POINT (1022808.604 6225867.209)  \n",
       "4  POINT (1022812.348 6227384.366)  "
      ]
     },
     "execution_count": 218,
     "metadata": {},
     "output_type": "execute_result"
    }
   ],
   "source": [
    "# Add the NUTS information\n",
    "dwd_cropland_gdf = dwd_cropland_gdf.to_crs(crs='epsg:3857')\n",
    "dwd_cropland_gdf = dwd_cropland_gdf.sjoin(de_nuts3_gdf[['NUTS_ID', 'NUTS_NAME', 'geometry']], how='left', predicate='intersects')\n",
    "dwd_cropland_gdf.dropna(inplace=True)\n",
    "dwd_cropland_gdf.sort_values(by=['NUTS_ID'], inplace=True)\n",
    "dwd_cropland_gdf.reset_index(drop=True, inplace=True)\n",
    "dwd_cropland_gdf['Cell_ID'] = dwd_cropland_gdf.index\n",
    "dwd_cropland_gdf = dwd_cropland_gdf[['Cell_ID', 'Row', 'Column', 'Latitude', 'Longitude', 'NUTS_ID', 'NUTS_NAME', 'geometry']]\n",
    "print(dwd_cropland_gdf.shape)\n",
    "dwd_cropland_gdf.head()"
   ]
  },
  {
   "cell_type": "code",
   "execution_count": 219,
   "metadata": {},
   "outputs": [
    {
     "data": {
      "text/html": [
       "\n",
       "            <style>\n",
       "                .geemap-dark {\n",
       "                    --jp-widgets-color: white;\n",
       "                    --jp-widgets-label-color: white;\n",
       "                    --jp-ui-font-color1: white;\n",
       "                    --jp-layout-color2: #454545;\n",
       "                    background-color: #383838;\n",
       "                }\n",
       "\n",
       "                .geemap-dark .jupyter-button {\n",
       "                    --jp-layout-color3: #383838;\n",
       "                }\n",
       "\n",
       "                .geemap-colab {\n",
       "                    background-color: var(--colab-primary-surface-color, white);\n",
       "                }\n",
       "\n",
       "                .geemap-colab .jupyter-button {\n",
       "                    --jp-layout-color3: var(--colab-primary-surface-color, white);\n",
       "                }\n",
       "            </style>\n",
       "            "
      ],
      "text/plain": [
       "<IPython.core.display.HTML object>"
      ]
     },
     "metadata": {},
     "output_type": "display_data"
    }
   ],
   "source": [
    "# Save the data\n",
    "# dwd_cropland_gdf.to_csv(os.path.join(out_master_dir, 'DE_DWD_UBN_Crop.csv'), index=False)"
   ]
  },
  {
   "cell_type": "markdown",
   "metadata": {},
   "source": [
    "## **Find k-Nearest Soil Points for Each Climate Grid Cell**"
   ]
  },
  {
   "cell_type": "code",
   "execution_count": 220,
   "metadata": {},
   "outputs": [
    {
     "data": {
      "text/html": [
       "\n",
       "            <style>\n",
       "                .geemap-dark {\n",
       "                    --jp-widgets-color: white;\n",
       "                    --jp-widgets-label-color: white;\n",
       "                    --jp-ui-font-color1: white;\n",
       "                    --jp-layout-color2: #454545;\n",
       "                    background-color: #383838;\n",
       "                }\n",
       "\n",
       "                .geemap-dark .jupyter-button {\n",
       "                    --jp-layout-color3: #383838;\n",
       "                }\n",
       "\n",
       "                .geemap-colab {\n",
       "                    background-color: var(--colab-primary-surface-color, white);\n",
       "                }\n",
       "\n",
       "                .geemap-colab .jupyter-button {\n",
       "                    --jp-layout-color3: var(--colab-primary-surface-color, white);\n",
       "                }\n",
       "            </style>\n",
       "            "
      ],
      "text/plain": [
       "<IPython.core.display.HTML object>"
      ]
     },
     "metadata": {},
     "output_type": "display_data"
    },
    {
     "data": {
      "text/plain": [
       "True"
      ]
     },
     "execution_count": 220,
     "metadata": {},
     "output_type": "execute_result"
    }
   ],
   "source": [
    "# Convert the soil data in the same coordinate system\n",
    "soil_attributes_gdf.to_crs(crs='epsg:3857', inplace=True)\n",
    "soil_attributes_gdf.crs == dwd_cropland_gdf.crs"
   ]
  },
  {
   "cell_type": "code",
   "execution_count": 221,
   "metadata": {},
   "outputs": [
    {
     "data": {
      "text/html": [
       "\n",
       "            <style>\n",
       "                .geemap-dark {\n",
       "                    --jp-widgets-color: white;\n",
       "                    --jp-widgets-label-color: white;\n",
       "                    --jp-ui-font-color1: white;\n",
       "                    --jp-layout-color2: #454545;\n",
       "                    background-color: #383838;\n",
       "                }\n",
       "\n",
       "                .geemap-dark .jupyter-button {\n",
       "                    --jp-layout-color3: #383838;\n",
       "                }\n",
       "\n",
       "                .geemap-colab {\n",
       "                    background-color: var(--colab-primary-surface-color, white);\n",
       "                }\n",
       "\n",
       "                .geemap-colab .jupyter-button {\n",
       "                    --jp-layout-color3: var(--colab-primary-surface-color, white);\n",
       "                }\n",
       "            </style>\n",
       "            "
      ],
      "text/plain": [
       "<IPython.core.display.HTML object>"
      ]
     },
     "metadata": {},
     "output_type": "display_data"
    }
   ],
   "source": [
    "# Extract coordinates\n",
    "dwd_cropland_coords = np.array(list(zip(dwd_cropland_gdf.geometry.x, dwd_cropland_gdf.geometry.y)))\n",
    "soil_coords = np.array(list(zip(soil_attributes_gdf.geometry.x, soil_attributes_gdf.geometry.y)))\n",
    "\n",
    "# Build BallTree for fast nearest neighbor search\n",
    "tree = BallTree(soil_coords, metric='euclidean')\n",
    "\n",
    "# Define number of neighbors (k)\n",
    "k = 5  # Adjust based on data density\n",
    "\n",
    "# Query k-nearest neighbors for each climate point\n",
    "distances, indices = tree.query(dwd_cropland_coords, k=k)"
   ]
  },
  {
   "cell_type": "markdown",
   "metadata": {},
   "source": [
    "## **Compute Inverse Distance Weighted (IDW) Average**"
   ]
  },
  {
   "cell_type": "code",
   "execution_count": 222,
   "metadata": {},
   "outputs": [
    {
     "data": {
      "text/html": [
       "\n",
       "            <style>\n",
       "                .geemap-dark {\n",
       "                    --jp-widgets-color: white;\n",
       "                    --jp-widgets-label-color: white;\n",
       "                    --jp-ui-font-color1: white;\n",
       "                    --jp-layout-color2: #454545;\n",
       "                    background-color: #383838;\n",
       "                }\n",
       "\n",
       "                .geemap-dark .jupyter-button {\n",
       "                    --jp-layout-color3: #383838;\n",
       "                }\n",
       "\n",
       "                .geemap-colab {\n",
       "                    background-color: var(--colab-primary-surface-color, white);\n",
       "                }\n",
       "\n",
       "                .geemap-colab .jupyter-button {\n",
       "                    --jp-layout-color3: var(--colab-primary-surface-color, white);\n",
       "                }\n",
       "            </style>\n",
       "            "
      ],
      "text/plain": [
       "<IPython.core.display.HTML object>"
      ]
     },
     "metadata": {},
     "output_type": "display_data"
    },
    {
     "data": {
      "application/vnd.jupyter.widget-view+json": {
       "model_id": "809c04cc8f354865914e33104f2c0674",
       "version_major": 2,
       "version_minor": 0
      },
      "text/plain": [
       "0it [00:00, ?it/s]"
      ]
     },
     "metadata": {},
     "output_type": "display_data"
    }
   ],
   "source": [
    "# Define soil properties to interpolate\n",
    "soil_properties = soil_attributes_gdf.columns[12:]  # Add all required properties\n",
    "power = 2  # IDW power parameter\n",
    "\n",
    "# Dictionary to store weighted values for each property\n",
    "weighted_results = {prop: [] for prop in soil_properties}\n",
    "\n",
    "# Compute IDW for each climate grid cell\n",
    "for i, climate_point in tqdm(enumerate(dwd_cropland_gdf.geometry)):\n",
    "    nearest_soil_points = soil_attributes_gdf.iloc[indices[i]]  # Get k nearest neighbors\n",
    "    nearest_distances = distances[i]\n",
    "\n",
    "    # Avoid division by zero\n",
    "    nearest_distances[nearest_distances == 0] = 1e-6\n",
    "\n",
    "    # Compute weights (w = 1/d^p)\n",
    "    weights = 1 / (nearest_distances ** power)\n",
    "\n",
    "    # Compute weighted average for each soil property\n",
    "    for prop in soil_properties:\n",
    "        weighted_avg = np.round(np.sum(weights * nearest_soil_points[prop].values) / np.sum(weights), 4)\n",
    "        weighted_results[prop].append(weighted_avg)\n",
    "\n",
    "# Assign weighted values to climate GeoDataFrame\n",
    "for prop in soil_properties:\n",
    "    dwd_cropland_gdf[f\"{prop}\"] = weighted_results[prop]"
   ]
  },
  {
   "cell_type": "code",
   "execution_count": 229,
   "metadata": {},
   "outputs": [
    {
     "data": {
      "text/html": [
       "\n",
       "            <style>\n",
       "                .geemap-dark {\n",
       "                    --jp-widgets-color: white;\n",
       "                    --jp-widgets-label-color: white;\n",
       "                    --jp-ui-font-color1: white;\n",
       "                    --jp-layout-color2: #454545;\n",
       "                    background-color: #383838;\n",
       "                }\n",
       "\n",
       "                .geemap-dark .jupyter-button {\n",
       "                    --jp-layout-color3: #383838;\n",
       "                }\n",
       "\n",
       "                .geemap-colab {\n",
       "                    background-color: var(--colab-primary-surface-color, white);\n",
       "                }\n",
       "\n",
       "                .geemap-colab .jupyter-button {\n",
       "                    --jp-layout-color3: var(--colab-primary-surface-color, white);\n",
       "                }\n",
       "            </style>\n",
       "            "
      ],
      "text/plain": [
       "<IPython.core.display.HTML object>"
      ]
     },
     "metadata": {},
     "output_type": "display_data"
    },
    {
     "name": "stdout",
     "output_type": "stream",
     "text": [
      "(190364, 38)\n"
     ]
    },
    {
     "data": {
      "text/html": [
       "<div>\n",
       "<style scoped>\n",
       "    .dataframe tbody tr th:only-of-type {\n",
       "        vertical-align: middle;\n",
       "    }\n",
       "\n",
       "    .dataframe tbody tr th {\n",
       "        vertical-align: top;\n",
       "    }\n",
       "\n",
       "    .dataframe thead th {\n",
       "        text-align: right;\n",
       "    }\n",
       "</style>\n",
       "<table border=\"1\" class=\"dataframe\">\n",
       "  <thead>\n",
       "    <tr style=\"text-align: right;\">\n",
       "      <th></th>\n",
       "      <th>Cell_ID</th>\n",
       "      <th>Row</th>\n",
       "      <th>Column</th>\n",
       "      <th>Latitude</th>\n",
       "      <th>Longitude</th>\n",
       "      <th>NUTS_ID</th>\n",
       "      <th>NUTS_NAME</th>\n",
       "      <th>SoilLayerDepth_10cm</th>\n",
       "      <th>SoilLayerDepth_30cm</th>\n",
       "      <th>SoilLayerDepth_50cm</th>\n",
       "      <th>...</th>\n",
       "      <th>BD_70cm</th>\n",
       "      <th>BD_1m</th>\n",
       "      <th>BD_2m</th>\n",
       "      <th>OC_10cm</th>\n",
       "      <th>OC_30cm</th>\n",
       "      <th>OC_50cm</th>\n",
       "      <th>OC_70cm</th>\n",
       "      <th>OC_1m</th>\n",
       "      <th>OC_2m</th>\n",
       "      <th>geometry</th>\n",
       "    </tr>\n",
       "  </thead>\n",
       "  <tbody>\n",
       "    <tr>\n",
       "      <th>0</th>\n",
       "      <td>0</td>\n",
       "      <td>703</td>\n",
       "      <td>234</td>\n",
       "      <td>48.737371</td>\n",
       "      <td>9.201742</td>\n",
       "      <td>DE111</td>\n",
       "      <td>Stuttgart, Stadtkreis</td>\n",
       "      <td>0.1</td>\n",
       "      <td>0.3</td>\n",
       "      <td>0.5</td>\n",
       "      <td>...</td>\n",
       "      <td>1.5407</td>\n",
       "      <td>1.5394</td>\n",
       "      <td>1.5394</td>\n",
       "      <td>1.2970</td>\n",
       "      <td>1.1749</td>\n",
       "      <td>0.3660</td>\n",
       "      <td>0.3316</td>\n",
       "      <td>0.1847</td>\n",
       "      <td>0.1847</td>\n",
       "      <td>POINT (1024333.233 6230415.593)</td>\n",
       "    </tr>\n",
       "    <tr>\n",
       "      <th>1</th>\n",
       "      <td>1</td>\n",
       "      <td>691</td>\n",
       "      <td>236</td>\n",
       "      <td>48.845227</td>\n",
       "      <td>9.229425</td>\n",
       "      <td>DE111</td>\n",
       "      <td>Stuttgart, Stadtkreis</td>\n",
       "      <td>0.1</td>\n",
       "      <td>0.3</td>\n",
       "      <td>0.5</td>\n",
       "      <td>...</td>\n",
       "      <td>1.4462</td>\n",
       "      <td>1.4607</td>\n",
       "      <td>1.4607</td>\n",
       "      <td>2.2463</td>\n",
       "      <td>1.8119</td>\n",
       "      <td>0.6600</td>\n",
       "      <td>0.5122</td>\n",
       "      <td>0.2873</td>\n",
       "      <td>0.2873</td>\n",
       "      <td>POINT (1027414.872 6248640.293)</td>\n",
       "    </tr>\n",
       "    <tr>\n",
       "      <th>2</th>\n",
       "      <td>2</td>\n",
       "      <td>707</td>\n",
       "      <td>233</td>\n",
       "      <td>48.701424</td>\n",
       "      <td>9.188012</td>\n",
       "      <td>DE111</td>\n",
       "      <td>Stuttgart, Stadtkreis</td>\n",
       "      <td>0.1</td>\n",
       "      <td>0.3</td>\n",
       "      <td>0.5</td>\n",
       "      <td>...</td>\n",
       "      <td>1.5569</td>\n",
       "      <td>1.4867</td>\n",
       "      <td>1.4867</td>\n",
       "      <td>1.3170</td>\n",
       "      <td>1.1219</td>\n",
       "      <td>0.3438</td>\n",
       "      <td>0.3209</td>\n",
       "      <td>0.1713</td>\n",
       "      <td>0.1713</td>\n",
       "      <td>POINT (1022804.862 6224350.32)</td>\n",
       "    </tr>\n",
       "    <tr>\n",
       "      <th>3</th>\n",
       "      <td>3</td>\n",
       "      <td>706</td>\n",
       "      <td>233</td>\n",
       "      <td>48.710416</td>\n",
       "      <td>9.188046</td>\n",
       "      <td>DE111</td>\n",
       "      <td>Stuttgart, Stadtkreis</td>\n",
       "      <td>0.1</td>\n",
       "      <td>0.3</td>\n",
       "      <td>0.5</td>\n",
       "      <td>...</td>\n",
       "      <td>1.5501</td>\n",
       "      <td>1.5007</td>\n",
       "      <td>1.5007</td>\n",
       "      <td>1.2979</td>\n",
       "      <td>1.1741</td>\n",
       "      <td>0.3449</td>\n",
       "      <td>0.3250</td>\n",
       "      <td>0.1761</td>\n",
       "      <td>0.1761</td>\n",
       "      <td>POINT (1022808.604 6225867.209)</td>\n",
       "    </tr>\n",
       "    <tr>\n",
       "      <th>4</th>\n",
       "      <td>4</td>\n",
       "      <td>705</td>\n",
       "      <td>233</td>\n",
       "      <td>48.719409</td>\n",
       "      <td>9.188080</td>\n",
       "      <td>DE111</td>\n",
       "      <td>Stuttgart, Stadtkreis</td>\n",
       "      <td>0.1</td>\n",
       "      <td>0.3</td>\n",
       "      <td>0.5</td>\n",
       "      <td>...</td>\n",
       "      <td>1.5484</td>\n",
       "      <td>1.5136</td>\n",
       "      <td>1.5136</td>\n",
       "      <td>1.3000</td>\n",
       "      <td>1.1741</td>\n",
       "      <td>0.3491</td>\n",
       "      <td>0.3254</td>\n",
       "      <td>0.1780</td>\n",
       "      <td>0.1780</td>\n",
       "      <td>POINT (1022812.348 6227384.366)</td>\n",
       "    </tr>\n",
       "  </tbody>\n",
       "</table>\n",
       "<p>5 rows × 38 columns</p>\n",
       "</div>"
      ],
      "text/plain": [
       "   Cell_ID  Row  Column   Latitude  Longitude NUTS_ID              NUTS_NAME  \\\n",
       "0        0  703     234  48.737371   9.201742   DE111  Stuttgart, Stadtkreis   \n",
       "1        1  691     236  48.845227   9.229425   DE111  Stuttgart, Stadtkreis   \n",
       "2        2  707     233  48.701424   9.188012   DE111  Stuttgart, Stadtkreis   \n",
       "3        3  706     233  48.710416   9.188046   DE111  Stuttgart, Stadtkreis   \n",
       "4        4  705     233  48.719409   9.188080   DE111  Stuttgart, Stadtkreis   \n",
       "\n",
       "   SoilLayerDepth_10cm  SoilLayerDepth_30cm  SoilLayerDepth_50cm  ...  \\\n",
       "0                  0.1                  0.3                  0.5  ...   \n",
       "1                  0.1                  0.3                  0.5  ...   \n",
       "2                  0.1                  0.3                  0.5  ...   \n",
       "3                  0.1                  0.3                  0.5  ...   \n",
       "4                  0.1                  0.3                  0.5  ...   \n",
       "\n",
       "   BD_70cm   BD_1m   BD_2m  OC_10cm  OC_30cm  OC_50cm  OC_70cm   OC_1m  \\\n",
       "0   1.5407  1.5394  1.5394   1.2970   1.1749   0.3660   0.3316  0.1847   \n",
       "1   1.4462  1.4607  1.4607   2.2463   1.8119   0.6600   0.5122  0.2873   \n",
       "2   1.5569  1.4867  1.4867   1.3170   1.1219   0.3438   0.3209  0.1713   \n",
       "3   1.5501  1.5007  1.5007   1.2979   1.1741   0.3449   0.3250  0.1761   \n",
       "4   1.5484  1.5136  1.5136   1.3000   1.1741   0.3491   0.3254  0.1780   \n",
       "\n",
       "    OC_2m                         geometry  \n",
       "0  0.1847  POINT (1024333.233 6230415.593)  \n",
       "1  0.2873  POINT (1027414.872 6248640.293)  \n",
       "2  0.1713   POINT (1022804.862 6224350.32)  \n",
       "3  0.1761  POINT (1022808.604 6225867.209)  \n",
       "4  0.1780  POINT (1022812.348 6227384.366)  \n",
       "\n",
       "[5 rows x 38 columns]"
      ]
     },
     "execution_count": 229,
     "metadata": {},
     "output_type": "execute_result"
    }
   ],
   "source": [
    "# Add soil layer depth columns (needed for PBMs)\n",
    "dwd_cropland_gdf['SoilLayerDepth_10cm'] = 0.1\n",
    "dwd_cropland_gdf['SoilLayerDepth_30cm'] = 0.3\n",
    "dwd_cropland_gdf['SoilLayerDepth_50cm'] = 0.5\n",
    "dwd_cropland_gdf['SoilLayerDepth_70cm'] = 0.7\n",
    "dwd_cropland_gdf['SoilLayerDepth_1m'] = 1\n",
    "dwd_cropland_gdf['SoilLayerDepth_2m'] = 2\n",
    "\n",
    "# Reorder the columns\n",
    "dwd_cropland_gdf = dwd_cropland_gdf[list(dwd_cropland_gdf.columns[:7]) + list(soil_attributes_gdf.columns[6:12]) + list(soil_properties) + ['geometry']]\n",
    "print(dwd_cropland_gdf.shape)\n",
    "dwd_cropland_gdf.head()"
   ]
  },
  {
   "cell_type": "code",
   "execution_count": 232,
   "metadata": {},
   "outputs": [
    {
     "data": {
      "text/html": [
       "\n",
       "            <style>\n",
       "                .geemap-dark {\n",
       "                    --jp-widgets-color: white;\n",
       "                    --jp-widgets-label-color: white;\n",
       "                    --jp-ui-font-color1: white;\n",
       "                    --jp-layout-color2: #454545;\n",
       "                    background-color: #383838;\n",
       "                }\n",
       "\n",
       "                .geemap-dark .jupyter-button {\n",
       "                    --jp-layout-color3: #383838;\n",
       "                }\n",
       "\n",
       "                .geemap-colab {\n",
       "                    background-color: var(--colab-primary-surface-color, white);\n",
       "                }\n",
       "\n",
       "                .geemap-colab .jupyter-button {\n",
       "                    --jp-layout-color3: var(--colab-primary-surface-color, white);\n",
       "                }\n",
       "            </style>\n",
       "            "
      ],
      "text/plain": [
       "<IPython.core.display.HTML object>"
      ]
     },
     "metadata": {},
     "output_type": "display_data"
    }
   ],
   "source": [
    "# Save the data\n",
    "# dwd_cropland_gdf.drop(columns='geometry').to_csv(os.path.join(out_master_dir, 'DE_DWD_UBN_Crop_Soil.csv'), index=False)"
   ]
  }
 ],
 "metadata": {
  "kernelspec": {
   "display_name": "py310",
   "language": "python",
   "name": "python3"
  },
  "language_info": {
   "codemirror_mode": {
    "name": "ipython",
    "version": 3
   },
   "file_extension": ".py",
   "mimetype": "text/x-python",
   "name": "python",
   "nbconvert_exporter": "python",
   "pygments_lexer": "ipython3",
   "version": "3.10.16"
  }
 },
 "nbformat": 4,
 "nbformat_minor": 2
}
